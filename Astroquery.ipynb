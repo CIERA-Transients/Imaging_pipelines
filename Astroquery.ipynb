{
 "cells": [
  {
   "cell_type": "markdown",
   "metadata": {},
   "source": [
    "### HELLO! This is a simple tool I have created to query optical photometry for nearby galaxies at a location of you choosing from SDSS DR12 in Vizier. Hope you find it useful! --Vic 07/31/2020"
   ]
  },
  {
   "cell_type": "code",
   "execution_count": 8,
   "metadata": {
    "tags": []
   },
   "outputs": [
    {
     "output_type": "stream",
     "name": "stdout",
     "text": "Downloading SFD data file to /anaconda3/lib/python3.7/site-packages/dustmaps/data/sfd/SFD_dust_4096_ngp.fits\nChecking existing file to see if MD5 sum matches ...\nFile exists. Not overwriting.\nDownloading SFD data file to /anaconda3/lib/python3.7/site-packages/dustmaps/data/sfd/SFD_dust_4096_sgp.fits\nChecking existing file to see if MD5 sum matches ...\nFile exists. Not overwriting.\n"
    }
   ],
   "source": [
    "import matplotlib.pyplot as plt\n",
    "import matplotlib.image as mpimg\n",
    "import matplotlib.patches as patches\n",
    "from matplotlib import colors\n",
    "from matplotlib.ticker import PercentFormatter\n",
    "from astropy.visualization import ImageNormalize, ZScaleInterval\n",
    "\n",
    "import IPython.display\n",
    "import ipywidgets as widgets\n",
    "import pickle\n",
    "import dustmaps.sfd\n",
    "import numpy as np\n",
    "import os\n",
    "from astropy import units as u\n",
    "from astropy.io import fits\n",
    "import astropy.wcs as wcs\n",
    "\n",
    "# This file contains all external dependencies\n",
    "from utilities import util\n",
    "\n",
    "dustmaps.sfd.fetch()\n",
    "sfd = dustmaps.sfd.SFDQuery()"
   ]
  },
  {
   "cell_type": "markdown",
   "metadata": {},
   "source": [
    "# Name of GRB, metadata, coordinates, extinction"
   ]
  },
  {
   "cell_type": "code",
   "execution_count": 2,
   "metadata": {
    "tags": []
   },
   "outputs": [
    {
     "output_type": "stream",
     "name": "stdout",
     "text": "Successfully downloaded Swift GRB data...\nGot GRB metadata\nTime: 05:33:03\nTrigger Number: 873186\nBAT T90: 0.26\nXRT RA: 12:17:28.02\nXRT Dec: 14:35:52.7\nMilky Way Av=0.1084 mag\n"
    }
   ],
   "source": [
    "data_path = 'data/'\n",
    "object_name = 'GRB181123B'\n",
    "ra  = '12:17:27.94'\n",
    "dec = '14:35:52.66'\n",
    "\n",
    "# Parse coord\n",
    "coord = util.parse_coord(ra, dec)\n",
    "\n",
    "# Get Swift data\n",
    "swift_data = util.get_grb_data(object_name)\n",
    "\n",
    "# Get MW Av\n",
    "av = sfd(coord) * 3.1\n",
    "print('Milky Way Av={0} mag'.format(('%7.4f'%av).strip()))"
   ]
  },
  {
   "cell_type": "markdown",
   "metadata": {},
   "source": [
    "### Catalog search - this will grab metadata for sources around input coord"
   ]
  },
  {
   "cell_type": "code",
   "execution_count": 18,
   "metadata": {
    "tags": []
   },
   "outputs": [
    {
     "output_type": "stream",
     "name": "stdout",
     "text": "Searching strm catalog...\n50 records in strm catalog\n50 total records in catalog\nSearching ps1dr2 catalog...\n1259 records in ps1dr2 catalog\n1259 total records in catalog\nSearching sdssdr12 catalog...\n0 records in sdssdr12 catalog\nSearching 2mass catalog...\n0 records in 2mass catalog\nSearching unwise catalog...\n161 records in unwise catalog\n1417 total records in catalog\nSearching glade catalog...\n0 records in glade catalog\nSearching des catalog...\n0 records in des catalog\n        ra             dec     \n------------------ ------------\n      184.35368211  14.57843162\n184.38281921499998 14.577962395\n184.35767894499998  14.58613477\n184.36251433500001  14.58281237\n     184.364357775  14.58825537\n      184.36443321  14.58973126\n184.36641739499998 14.587203895\n      184.36838314  14.58895907\n      184.37317974 14.589222925\n      184.37746584  14.58836374\n               ...          ...\n        184.375096   14.6260586\n       184.3851607   14.6272346\n       184.3662834   14.6374617\n       184.3679991   14.6385839\n       184.3698656   14.6384715\n       184.3670752   14.6392698\n       184.3331353    14.618001\n       184.3481504   14.6328769\n       184.3326654   14.6229192\n       184.3549022   14.6372784\n       184.3559409   14.6393645\nLength = 1417 rows\n"
    }
   ],
   "source": [
    "# This method will search and crossmatch catalogs given an input list\n",
    "# of catalogs.  The output is an astropy table keyed by as catname_key\n",
    "# where key is the original key in each catalog\n",
    "catnames = ['strm','ps1dr2','sdssdr12','2mass','unwise','glade','des']\n",
    "catalog = util.search_catalogs(coord, catnames, search_radius=2.564*u.arcmin,\n",
    "    match_radius=2.0*u.arcsec, outfile=os.path.join(data_path,object_name+'.cat'))\n",
    "print(catalog['ra','dec'])"
   ]
  },
  {
   "cell_type": "markdown",
   "metadata": {},
   "source": [
    "### If you want an image of where you are looking at, you can use this!"
   ]
  },
  {
   "cell_type": "code",
   "execution_count": 19,
   "metadata": {
    "tags": []
   },
   "outputs": [
    {
     "output_type": "stream",
     "name": "stdout",
     "text": "We need to download 1 PS1 images.\nWrote out: rings.v3.skycell.1635.064.stk.r.unconv_mod.fits\n"
    },
    {
     "output_type": "display_data",
     "data": {
      "text/plain": "Canvas(toolbar=Toolbar(toolitems=[('Home', 'Reset original view', 'home', 'home'), ('Back', 'Back to previous …",
      "application/vnd.jupyter.widget-view+json": {
       "version_major": 2,
       "version_minor": 0,
       "model_id": "8acb949cf2f94060a1c22966ee814e43"
      }
     },
     "metadata": {}
    },
    {
     "output_type": "execute_result",
     "data": {
      "text/plain": "11"
     },
     "metadata": {},
     "execution_count": 19
    }
   ],
   "source": [
    "# Here is an image of the cut out. I bet it looks super pretty!\n",
    "# First tries SDSS, then PS1, then DES, then SkyMapper to get jpeg\n",
    "# should have 100% sky coverage from those surveys\n",
    "imfile = util.downloadPS1(coord, 'r')\n",
    "\n",
    "%matplotlib widget\n",
    "fig, ax = plt.subplots(figsize=(10,10))\n",
    "fopen = fits.open(imfile)\n",
    "image = fopen[1].data\n",
    "header = fopen[1].header\n",
    "wcs_object = wcs.WCS(header)\n",
    "ax = plt.subplot(projection=wcs_object)\n",
    "ax.imshow(image, cmap='gray', norm=ImageNormalize(image, interval=ZScaleInterval()))\n",
    "\n",
    "plt.title(object_name,fontsize=20)\n",
    "x_center, y_center = wcs_object.all_world2pix(coord.ra.deg,coord.dec.deg,1)\n",
    "ax.hlines(y_center,x_center+20,x_center+300,color='limegreen',alpha=0.8,linewidth=2)\n",
    "ax.vlines(x_center,y_center+20,y_center+300,color='limegreen',alpha=0.8,linewidth=2)\n",
    "\n",
    "ax.hlines(50,170,470,color='k',linewidth=3)\n",
    "ax.vlines(470,50,350,color='k',linewidth=3)\n",
    "ax.text(400,400,'N',color='k',fontsize=15)\n",
    "ax.text(35,50,'E',color='k',fontsize=15)\n",
    "\n",
    "try:\n",
    "    xrt_pos = util.parse_coord(swift_data['BAT RA'], swift_data['BAT Dec'][1:])\n",
    "    x_xrt, y_xrt = wcs_object.all_world2pix(xrt_pos.ra.deg,xrt_pos.dec.deg,1)\n",
    "    ax.add_patch(patches.Circle((x_xrt,y_xrt),radius=np.float(swift_data['BAT Error Radius'])/0.25,edgecolor='m',alpha=0.8,facecolor='none',linewidth=2,linestyle='--',label='XRT position at RA = %.3f, Dec = %.3f'%(xrt_pos.ra.deg, xrt_pos.dec.deg),picker=True))\n",
    "except:\n",
    "    print('No XRT position.')\n",
    "\n",
    "for i in range(len(catalog)):\n",
    "   x, y = wcs_object.all_world2pix(xrt_pos.ra.deg,xrt_pos.dec.deg,1)\n",
    "   ax.add_patch(patches.Circle((x,y),radius=2,edgecolor='r',alpha=0.5,facecolor='none',linewidth=2,linestyle='-',label='Galaxy at RA = %.3f, Dec = %.3f'%(catalog['ra'][i],catalog['dec'][i]),picker=True))\n",
    "\n",
    "ax.set_xlabel('RA')\n",
    "ax.set_ylabel('Dec')\n",
    "fig.canvas.mpl_connect('click_pos', lambda event: onclick())\n",
    "fig.canvas.mpl_connect('pick_event', lambda event: onpick())"
   ]
  },
  {
   "cell_type": "markdown",
   "metadata": {},
   "source": [
    "### Once you have the results, there are several things you can do. One of them is finding the probability chance coincident (Pcc) of the nearby galaxies which essentially tells you how likely that the GRB originated from a galaxy. The lower the Pcc, the more probable. "
   ]
  },
  {
   "cell_type": "code",
   "execution_count": null,
   "metadata": {},
   "outputs": [],
   "source": [
    "# The function you can use to calcilate that is here:\n",
    "def pcc(r,m): \n",
    "    sigma = (1/(0.33*np.log(10)))*10**(0.33*(m-24)-2.44) \n",
    "    prob = 1-np.exp(-(np.pi*(r**2)*sigma)) \n",
    "    return prob\n",
    "\n",
    "# An example of what a plot of Pcc as a function of distance looks like is here. This is what I did for GRB200522A. \n",
    "import numpy as np\n",
    "with open(object_name+'.txt', 'rb') as fp:\n",
    "    result = pickle.load(fp)\n",
    "\n",
    "# Make a list of r_mag that corresponds to each galaxy near the GRB\n",
    "r_mag = [line[7] for line in result]\n",
    "#print(r_mag)\n",
    "\n",
    "# Distance is in arcsecond, not arcminute of the galaxy from the GRB\n",
    "distance = [line[0]*60 for line in result]\n",
    "#print(distance)\n",
    "\n",
    "# Make a list of photometric redshift\n",
    "phot = [line[10] for line in result]\n",
    "#print(phot)\n",
    "    \n",
    "prob = []\n",
    "for i in range(len(r_mag)):\n",
    "    prob.append(pcc(distance[i],r_mag[i]))\n",
    "        \n",
    "#print(prob)"
   ]
  },
  {
   "cell_type": "code",
   "execution_count": null,
   "metadata": {},
   "outputs": [],
   "source": [
    "plt.rcParams['figure.figsize'] = [10, 8]\n",
    "# = plt.subplot(21.137, 0.316, c=0.5537)\n",
    "plt.rcParams['font.family'] = 'serif'\n",
    "plt.rcParams['axes.linewidth'] = 2\n",
    "plt.scatter(distance, prob, marker = \"o\", c=phot, cmap='plasma', alpha = 0.6, s=195, edgecolors='black')\n",
    "plt.ylabel('P$_{cc}$', fontsize = 20)\n",
    "plt.xlabel('Distance (arcsec)', fontsize = 20)\n",
    "clb = plt.colorbar()\n",
    "clb.solids.set_alpha(1)\n",
    "clb.set_label('phot-z', fontsize = 20, labelpad=15, rotation=90)\n",
    "plt.savefig(object_name+'_pcc.png', format = 'pdf', dpi=300, bbox_inches=\"tight\")\n",
    "plt.show()"
   ]
  },
  {
   "cell_type": "markdown",
   "metadata": {},
   "source": [
    "#### You can also sort out other lists of information such as the redshift and distance to make a scatter plot of redshifts as a function of distance. That can be helpful for figuring out whether the host is in a galaxy cluster or not. "
   ]
  }
 ],
 "metadata": {
  "kernelspec": {
   "display_name": "Python 3",
   "language": "python",
   "name": "python3"
  },
  "language_info": {
   "codemirror_mode": {
    "name": "ipython",
    "version": 3
   },
   "file_extension": ".py",
   "mimetype": "text/x-python",
   "name": "python",
   "nbconvert_exporter": "python",
   "pygments_lexer": "ipython3",
   "version": "3.7.6-final"
  }
 },
 "nbformat": 4,
 "nbformat_minor": 4
}