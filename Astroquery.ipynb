{
 "cells": [
  {
   "cell_type": "markdown",
   "metadata": {},
   "source": [
    "### HELLO! This is a simple tool I have created to query optical photometry for nearby galaxies at a location of you choosing from SDSS DR12 in Vizier. Hope you find it useful! --Vic 07/31/2020"
   ]
  },
  {
   "cell_type": "code",
   "execution_count": 1,
   "metadata": {
    "tags": []
   },
   "outputs": [
    {
     "name": "stdout",
     "output_type": "stream",
     "text": [
      "Downloading SFD data file to /Users/ckilpatrick/scripts/anaconda3/envs/astroconda/lib/python3.7/site-packages/dustmaps/data/sfd/SFD_dust_4096_ngp.fits\n",
      "Checking existing file to see if MD5 sum matches ...\n",
      "File exists. Not overwriting.\n",
      "Downloading SFD data file to /Users/ckilpatrick/scripts/anaconda3/envs/astroconda/lib/python3.7/site-packages/dustmaps/data/sfd/SFD_dust_4096_sgp.fits\n",
      "Checking existing file to see if MD5 sum matches ...\n",
      "File exists. Not overwriting.\n"
     ]
    }
   ],
   "source": [
    "import matplotlib.pyplot as plt\n",
    "import matplotlib.image as mpimg\n",
    "import matplotlib.patches as patches\n",
    "from matplotlib import colors\n",
    "from matplotlib.ticker import PercentFormatter\n",
    "\n",
    "import IPython.display\n",
    "import ipywidgets as widgets\n",
    "import pickle\n",
    "import dustmaps.sfd\n",
    "import numpy as np\n",
    "import os\n",
    "from astropy import units as u\n",
    "\n",
    "# This file contains all external dependencies\n",
    "from utilities import util\n",
    "\n",
    "dustmaps.sfd.fetch()\n",
    "sfd = dustmaps.sfd.SFDQuery()"
   ]
  },
  {
   "cell_type": "markdown",
   "metadata": {},
   "source": [
    "# Name of GRB, metadata, coordinates, extinction"
   ]
  },
  {
   "cell_type": "code",
   "execution_count": 12,
   "metadata": {},
   "outputs": [
    {
     "name": "stdout",
     "output_type": "stream",
     "text": [
      "Successfully downloaded Swift GRB data...\n",
      "Got GRB metadata\n",
      "Time: 22:50:13\n",
      "Trigger Number: 1000452\n",
      "BAT T90: 9.78\n",
      "XRT RA: 23:37:16.46\n",
      "XRT Dec: 53:24:57.7\n",
      "Milky Way Av=1.0500 mag\n"
     ]
    }
   ],
   "source": [
    "data_path = 'data/'\n",
    "object_name = 'GRB201015A'\n",
    "ra  = '23:37:16.46'\n",
    "dec = '53:24:57.7'\n",
    "\n",
    "# Parse coord\n",
    "coord = util.parse_coord(ra, dec)\n",
    "\n",
    "# Get Swift data\n",
    "swift_data = util.get_grb_data(object_name)\n",
    "\n",
    "# Get MW Av\n",
    "av = sfd(coord) * 3.1\n",
    "print('Milky Way Av={0} mag'.format(('%7.4f'%av).strip()))"
   ]
  },
  {
   "cell_type": "markdown",
   "metadata": {},
   "source": [
    "### Catalog search - this will grab metadata for sources around input coord"
   ]
  },
  {
   "cell_type": "code",
   "execution_count": 3,
   "metadata": {},
   "outputs": [
    {
     "name": "stdout",
     "output_type": "stream",
     "text": [
      "data/GRB201015A.cat exists.  Do you want to use this catalog?([y]/n): y\n",
      "        ra                dec        \n",
      "------------------ ------------------\n",
      "     354.317680625 53.399156864999995\n",
      "     354.329861705 53.398048845000005\n",
      "      354.28646687         53.4065762\n",
      "      354.29016509        53.40563064\n",
      "     354.293904915       53.404988625\n",
      "      354.29738598       53.407362475\n",
      "      354.29930191       53.402239965\n",
      "354.30220531500004        53.40509177\n",
      "      354.30842828        53.40621451\n",
      "     354.317870185       53.399963645\n",
      "               ...                ...\n",
      "       354.3045606         53.4558478\n",
      "        354.314437         53.4561602\n",
      "       354.2850897         53.4466779\n",
      "       354.2986376         53.4566294\n",
      "       354.2933506         53.4344816\n",
      "       354.3193263         53.4562635\n",
      "       354.3117396         53.4575833\n",
      "       354.2821284          53.444233\n",
      "       354.2877776         53.4346849\n",
      "       354.2840363         53.4473429\n",
      "       354.3131473         53.4570698\n",
      "Length = 2786 rows\n"
     ]
    }
   ],
   "source": [
    "# This method will search and crossmatch catalogs given an input list\n",
    "# of catalogs.  The output is an astropy table keyed by as catname_key\n",
    "# where key is the original key in each catalog\n",
    "catnames = ['strm','ps1dr2','sdssdr12','2mass','unwise','glade','des']\n",
    "catalog = util.search_catalogs(coord, catnames, search_radius=2.564*u.arcmin,\n",
    "    match_radius=2.0*u.arcsec, outfile=os.path.join(data_path,object_name+'.cat'))\n",
    "print(catalog['ra','dec'])"
   ]
  },
  {
   "cell_type": "markdown",
   "metadata": {},
   "source": [
    "### If you want an image of where you are looking at, you can use this!"
   ]
  },
  {
   "cell_type": "code",
   "execution_count": 13,
   "metadata": {},
   "outputs": [
    {
     "ename": "TypeError",
     "evalue": "getSDSS() got an unexpected keyword argument 'outfile'",
     "output_type": "error",
     "traceback": [
      "\u001b[0;31m---------------------------------------------------------------------------\u001b[0m",
      "\u001b[0;31mTypeError\u001b[0m                                 Traceback (most recent call last)",
      "\u001b[0;32m<ipython-input-13-8780303d292b>\u001b[0m in \u001b[0;36m<module>\u001b[0;34m\u001b[0m\n\u001b[1;32m      5\u001b[0m \u001b[0mcoord\u001b[0m \u001b[0;34m=\u001b[0m \u001b[0mSkyCoord\u001b[0m\u001b[0;34m(\u001b[0m\u001b[0;34m'12:00:00'\u001b[0m\u001b[0;34m,\u001b[0m\u001b[0;34m'10:00:00'\u001b[0m\u001b[0;34m,\u001b[0m \u001b[0munit\u001b[0m\u001b[0;34m=\u001b[0m\u001b[0;34m(\u001b[0m\u001b[0mu\u001b[0m\u001b[0;34m.\u001b[0m\u001b[0mhour\u001b[0m\u001b[0;34m,\u001b[0m\u001b[0mu\u001b[0m\u001b[0;34m.\u001b[0m\u001b[0mdeg\u001b[0m\u001b[0;34m)\u001b[0m\u001b[0;34m)\u001b[0m\u001b[0;34m\u001b[0m\u001b[0;34m\u001b[0m\u001b[0m\n\u001b[1;32m      6\u001b[0m \u001b[0mimfile\u001b[0m \u001b[0;34m=\u001b[0m \u001b[0mos\u001b[0m\u001b[0;34m.\u001b[0m\u001b[0mpath\u001b[0m\u001b[0;34m.\u001b[0m\u001b[0mjoin\u001b[0m\u001b[0;34m(\u001b[0m\u001b[0mdata_path\u001b[0m\u001b[0;34m,\u001b[0m\u001b[0mobject_name\u001b[0m\u001b[0;34m+\u001b[0m\u001b[0;34m'_SDSS_cutout.jpg'\u001b[0m\u001b[0;34m)\u001b[0m\u001b[0;34m\u001b[0m\u001b[0;34m\u001b[0m\u001b[0m\n\u001b[0;32m----> 7\u001b[0;31m \u001b[0mimname\u001b[0m \u001b[0;34m=\u001b[0m \u001b[0mutil\u001b[0m\u001b[0;34m.\u001b[0m\u001b[0mgetSDSS\u001b[0m\u001b[0;34m(\u001b[0m\u001b[0mcoord\u001b[0m\u001b[0;34m,\u001b[0m \u001b[0mimpix\u001b[0m\u001b[0;34m=\u001b[0m\u001b[0;36m1024\u001b[0m\u001b[0;34m,\u001b[0m \u001b[0mimsize\u001b[0m\u001b[0;34m=\u001b[0m\u001b[0;36m12\u001b[0m\u001b[0;34m*\u001b[0m\u001b[0mu\u001b[0m\u001b[0;34m.\u001b[0m\u001b[0marcmin\u001b[0m\u001b[0;34m,\u001b[0m \u001b[0moutfile\u001b[0m\u001b[0;34m=\u001b[0m\u001b[0mimfile\u001b[0m\u001b[0;34m)\u001b[0m\u001b[0;34m\u001b[0m\u001b[0;34m\u001b[0m\u001b[0m\n\u001b[0m\u001b[1;32m      8\u001b[0m \u001b[0;34m\u001b[0m\u001b[0m\n\u001b[1;32m      9\u001b[0m \u001b[0mget_ipython\u001b[0m\u001b[0;34m(\u001b[0m\u001b[0;34m)\u001b[0m\u001b[0;34m.\u001b[0m\u001b[0mrun_line_magic\u001b[0m\u001b[0;34m(\u001b[0m\u001b[0;34m'matplotlib'\u001b[0m\u001b[0;34m,\u001b[0m \u001b[0;34m'widget'\u001b[0m\u001b[0;34m)\u001b[0m\u001b[0;34m\u001b[0m\u001b[0;34m\u001b[0m\u001b[0m\n",
      "\u001b[0;31mTypeError\u001b[0m: getSDSS() got an unexpected keyword argument 'outfile'"
     ]
    }
   ],
   "source": [
    "# Here is an image of the cut out. I bet it looks super pretty!\n",
    "# First tries SDSS, then PS1, then DES, then SkyMapper to get jpeg\n",
    "# should have 100% sky coverage from those surveys\n",
    "from astropy.coordinates import SkyCoord\n",
    "coord = SkyCoord('12:00:00','10:00:00', unit=(u.hour,u.deg))\n",
    "imfile = os.path.join(data_path,object_name+'_SDSS_cutout.jpg')\n",
    "imname = util.getSDSS(coord, impix=1024, imsize=12*u.arcmin, outfile=imfile)\n",
    "\n",
    "%matplotlib widget\n",
    "fig, ax = plt.subplots(figsize=(10,10))\n",
    "image = mpimg.imread(imfile)\n",
    "ax.imshow(image)\n",
    "\n",
    "plt.title(object_name,fontsize=20)\n",
    "ax.hlines(512,532,572,color='limegreen',alpha=0.8,linewidth=2)\n",
    "ax.vlines(512,532,572,color='limegreen',alpha=0.8,linewidth=2)\n",
    "\n",
    "ax.hlines(1000,50,100,color='white',linewidth=3)\n",
    "ax.vlines(100,950,1000,color='white',linewidth=3)\n",
    "ax.text(95,945,'N',color='white',fontsize=15)\n",
    "ax.text(35,1005,'E',color='white',fontsize=15)\n",
    "    \n",
    "# if XRT:\n",
    "    # x_xrt, y_xrt = xrt_ra, xrt_dec\n",
    "    # add_patch(patches.Circle((x_xrt,y_xrt),radius=xrt_radius,edgecolor='g',alpha=0.5,facecolor='none',linewidth=2,linestyle='--',label='XRT position at RA = %.3f, Dec = %.3f'%(xrt_ra, xrt_dec),picker=True))\n",
    "\n",
    "#with open(object_name+'.txt', 'rb') as fp:\n",
    "#    result = pickle.load(fp)\n",
    "#for line in result:\n",
    "#    x, y = 512+(coord.ra.deg-line[1])*3600/scale, 512+(coord.dec.deg-line[2])*3600/scale\n",
    "#    ax.add_patch(patches.Circle((x,y),radius=2,edgecolor='r',alpha=0.5,facecolor='none',linewidth=2,linestyle='-',label='SDSS galaxy at RA = %.3f, Dec = %.3f'%(line[1],line[2]),picker=True))\n",
    "\n",
    "fig.canvas.mpl_connect('click_pos', lambda event: onclick())\n",
    "fig.canvas.mpl_connect('pick_event', lambda event: onpick())"
   ]
  },
  {
   "cell_type": "markdown",
   "metadata": {},
   "source": [
    "### Once you have the results, there are several things you can do. One of them is finding the probability chance coincident (Pcc) of the nearby galaxies which essentially tells you how likely that the GRB originated from a galaxy. The lower the Pcc, the more probable. "
   ]
  },
  {
   "cell_type": "code",
   "execution_count": null,
   "metadata": {},
   "outputs": [],
   "source": [
    "# The function you can use to calcilate that is here:\n",
    "def pcc(r,m): \n",
    "    sigma = (1/(0.33*np.log(10)))*10**(0.33*(m-24)-2.44) \n",
    "    prob = 1-np.exp(-(np.pi*(r**2)*sigma)) \n",
    "    return prob\n",
    "\n",
    "# An example of what a plot of Pcc as a function of distance looks like is here. This is what I did for GRB200522A. \n",
    "import numpy as np\n",
    "with open(object_name+'.txt', 'rb') as fp:\n",
    "    result = pickle.load(fp)\n",
    "\n",
    "# Make a list of r_mag that corresponds to each galaxy near the GRB\n",
    "r_mag = [line[7] for line in result]\n",
    "#print(r_mag)\n",
    "\n",
    "# Distance is in arcsecond, not arcminute of the galaxy from the GRB\n",
    "distance = [line[0]*60 for line in result]\n",
    "#print(distance)\n",
    "\n",
    "# Make a list of photometric redshift\n",
    "phot = [line[10] for line in result]\n",
    "#print(phot)\n",
    "    \n",
    "prob = []\n",
    "for i in range(len(r_mag)):\n",
    "    prob.append(pcc(distance[i],r_mag[i]))\n",
    "        \n",
    "#print(prob)"
   ]
  },
  {
   "cell_type": "code",
   "execution_count": null,
   "metadata": {},
   "outputs": [],
   "source": [
    "plt.rcParams['figure.figsize'] = [10, 8]\n",
    "# = plt.subplot(21.137, 0.316, c=0.5537)\n",
    "plt.rcParams['font.family'] = 'serif'\n",
    "plt.rcParams['axes.linewidth'] = 2\n",
    "plt.scatter(distance, prob, marker = \"o\", c=phot, cmap='plasma', alpha = 0.6, s=195, edgecolors='black')\n",
    "plt.ylabel('P$_{cc}$', fontsize = 20)\n",
    "plt.xlabel('Distance (arcsec)', fontsize = 20)\n",
    "clb = plt.colorbar()\n",
    "clb.solids.set_alpha(1)\n",
    "clb.set_label('phot-z', fontsize = 20, labelpad=15, rotation=90)\n",
    "plt.savefig(object_name+'_pcc.png', format = 'pdf', dpi=300, bbox_inches=\"tight\")\n",
    "plt.show()"
   ]
  },
  {
   "cell_type": "markdown",
   "metadata": {},
   "source": [
    "#### You can also sort out other lists of information such as the redshift and distance to make a scatter plot of redshifts as a function of distance. That can be helpful for figuring out whether the host is in a galaxy cluster or not. "
   ]
  }
 ],
 "metadata": {
  "kernelspec": {
   "display_name": "Python 3",
   "language": "python",
   "name": "python3"
  },
  "language_info": {
   "codemirror_mode": {
    "name": "ipython",
    "version": 3
   },
   "file_extension": ".py",
   "mimetype": "text/x-python",
   "name": "python",
   "nbconvert_exporter": "python",
   "pygments_lexer": "ipython3",
   "version": "3.7.9"
  }
 },
 "nbformat": 4,
 "nbformat_minor": 4
}
