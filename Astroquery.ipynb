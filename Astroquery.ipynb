{
 "cells": [
  {
   "cell_type": "markdown",
   "metadata": {},
   "source": [
    "### HELLO! This is a simple tool I have created to query optical photometry for nearby galaxies at a location of you choosing from SDSS DR12 in Vizier. Hope you find it useful! --Vic 07/31/2020"
   ]
  },
  {
   "cell_type": "code",
   "execution_count": 1,
   "metadata": {
    "tags": []
   },
   "outputs": [
    {
     "name": "stdout",
     "output_type": "stream",
     "text": [
      "Downloading SFD data file to /Users/ckilpatrick/scripts/anaconda3/envs/astroconda/lib/python3.7/site-packages/dustmaps/data/sfd/SFD_dust_4096_ngp.fits\n",
      "Checking existing file to see if MD5 sum matches ...\n",
      "File exists. Not overwriting.\n",
      "Downloading SFD data file to /Users/ckilpatrick/scripts/anaconda3/envs/astroconda/lib/python3.7/site-packages/dustmaps/data/sfd/SFD_dust_4096_sgp.fits\n",
      "Checking existing file to see if MD5 sum matches ...\n",
      "File exists. Not overwriting.\n"
     ]
    }
   ],
   "source": [
    "import matplotlib.pyplot as plt\n",
    "import matplotlib.image as mpimg\n",
    "import matplotlib.patches as patches\n",
    "from matplotlib import colors\n",
    "from matplotlib.ticker import PercentFormatter\n",
    "\n",
    "import IPython.display\n",
    "import ipywidgets as widgets\n",
    "import pickle\n",
    "import dustmaps.sfd\n",
    "import numpy as np\n",
    "from astropy import units as u\n",
    "\n",
    "# This file contains all external dependencies\n",
    "from utilities import util\n",
    "\n",
    "dustmaps.sfd.fetch()\n",
    "sfd = dustmaps.sfd.SFDQuery()"
   ]
  },
  {
   "cell_type": "markdown",
   "metadata": {},
   "source": [
    "# Name of GRB, metadata, coordinates, extinction"
   ]
  },
  {
   "cell_type": "code",
   "execution_count": 2,
   "metadata": {},
   "outputs": [
    {
     "name": "stdout",
     "output_type": "stream",
     "text": [
      "Successfully downloaded Swift GRB data...\n",
      "Got GRB metadata\n",
      "Time: 22:50:13\n",
      "Trigger Number: 1000452\n",
      "BAT T90: 9.78\n",
      "XRT RA: 23:37:16.46\n",
      "XRT Dec: 53:24:57.7\n",
      "Milky Way Av=1.0500 mag\n"
     ]
    }
   ],
   "source": [
    "object_name = 'GRB201015A'\n",
    "ra  = '23:37:16.46'\n",
    "dec = '53:24:57.7'\n",
    "\n",
    "# Parse coord\n",
    "coord = util.parse_coord(ra, dec)\n",
    "\n",
    "# Get Swift data\n",
    "swift_data = util.get_grb_data(object_name)\n",
    "\n",
    "# Get MW Av\n",
    "av = sfd(coord) * 3.1\n",
    "print('Milky Way Av={0} mag'.format(('%7.4f'%av).strip()))"
   ]
  },
  {
   "cell_type": "markdown",
   "metadata": {},
   "source": [
    "### Catalog search - this will grab metadata for sources around input coord"
   ]
  },
  {
   "cell_type": "code",
   "execution_count": 4,
   "metadata": {},
   "outputs": [
    {
     "name": "stdout",
     "output_type": "stream",
     "text": [
      "data/GRB201015A.cat exists.  Do you want to use this catalog?([y]/n): y\n",
      "        ra                dec        \n",
      "------------------ ------------------\n",
      "     354.317680625 53.399156864999995\n",
      "     354.329861705 53.398048845000005\n",
      "      354.28646687         53.4065762\n",
      "      354.29016509        53.40563064\n",
      "     354.293904915       53.404988625\n",
      "      354.29738598       53.407362475\n",
      "      354.29930191       53.402239965\n",
      "354.30220531500004        53.40509177\n",
      "      354.30842828        53.40621451\n",
      "     354.317870185       53.399963645\n",
      "               ...                ...\n",
      "       354.3045606         53.4558478\n",
      "        354.314437         53.4561602\n",
      "       354.2850897         53.4466779\n",
      "       354.2986376         53.4566294\n",
      "       354.2933506         53.4344816\n",
      "       354.3193263         53.4562635\n",
      "       354.3117396         53.4575833\n",
      "       354.2821284          53.444233\n",
      "       354.2877776         53.4346849\n",
      "       354.2840363         53.4473429\n",
      "       354.3131473         53.4570698\n",
      "Length = 2786 rows\n"
     ]
    }
   ],
   "source": [
    "# This method will search and crossmatch catalogs given an input list\n",
    "# of catalogs.  The output is an astropy table keyed by as catname_key\n",
    "# where key is the original key in each catalog\n",
    "catnames = ['strm','ps1dr2','sdssdr12','2mass','unwise','glade','des']\n",
    "catalog = util.search_catalogs(coord, catnames, search_radius=2.564*u.arcmin,\n",
    "    match_radius=2.0*u.arcsec, outfile='data/'+object_name+'.cat')\n",
    "print(catalog['ra','dec'])"
   ]
  },
  {
   "cell_type": "markdown",
   "metadata": {},
   "source": [
    "### If you want an image of where you are looking at, you can use this!"
   ]
  },
  {
   "cell_type": "code",
   "execution_count": 36,
   "metadata": {},
   "outputs": [
    {
     "data": {
      "application/vnd.jupyter.widget-view+json": {
       "model_id": "0d91788637af4c09b1bd548ae44328c3",
       "version_major": 2,
       "version_minor": 0
      },
      "text/plain": [
       "Canvas(toolbar=Toolbar(toolitems=[('Home', 'Reset original view', 'home', 'home'), ('Back', 'Back to previous …"
      ]
     },
     "metadata": {},
     "output_type": "display_data"
    },
    {
     "data": {
      "text/plain": [
       "{'figure': <Figure size 500x500 with 1 Axes>,\n",
       " '_subplotspec': GridSpec(1, 1)[0:1, 0:1],\n",
       " 'figbox': Bbox([[0.125, 0.10999999999999999], [0.9, 0.88]]),\n",
       " 'numRows': 1,\n",
       " 'numCols': 1,\n",
       " '_stale': True,\n",
       " 'stale_callback': <function matplotlib.figure._stale_figure_callback(self, val)>,\n",
       " '_axes': <AxesSubplot:>,\n",
       " '_transform': None,\n",
       " '_transformSet': False,\n",
       " '_visible': True,\n",
       " '_animated': False,\n",
       " '_alpha': None,\n",
       " 'clipbox': None,\n",
       " '_clippath': None,\n",
       " '_clipon': True,\n",
       " '_label': '',\n",
       " '_picker': None,\n",
       " '_contains': None,\n",
       " '_rasterized': None,\n",
       " '_agg_filter': None,\n",
       " '_mouseover': False,\n",
       " 'eventson': False,\n",
       " '_oid': 0,\n",
       " '_propobservers': {},\n",
       " '_remove_method': <bound method Figure.delaxes of <Figure size 500x500 with 1 Axes>>,\n",
       " '_url': None,\n",
       " '_gid': None,\n",
       " '_snap': None,\n",
       " '_sketch': None,\n",
       " '_path_effects': [],\n",
       " '_sticky_edges': _XYPair(x=[], y=[]),\n",
       " '_in_layout': True,\n",
       " '_position': Bbox([[0.125, 0.10999999999999999], [0.9, 0.88]]),\n",
       " '_originalPosition': Bbox([[0.125, 0.10999999999999999], [0.9, 0.88]]),\n",
       " '_aspect': 'auto',\n",
       " '_adjustable': 'box',\n",
       " '_anchor': 'C',\n",
       " '_stale_viewlim_x': False,\n",
       " '_stale_viewlim_y': False,\n",
       " '_sharex': None,\n",
       " '_sharey': None,\n",
       " 'bbox': <matplotlib.transforms.TransformedBbox at 0x7fcb85ada910>,\n",
       " 'dataLim': Bbox([[inf, inf], [-inf, -inf]]),\n",
       " '_viewLim': Bbox([[0.0, 0.0], [1.0, 1.0]]),\n",
       " 'transScale': <matplotlib.transforms.TransformWrapper at 0x7fcb85b7bad0>,\n",
       " 'transAxes': <matplotlib.transforms.BboxTransformTo at 0x7fcb85b7b710>,\n",
       " 'transLimits': <matplotlib.transforms.BboxTransformFrom at 0x7fcb85b2a1d0>,\n",
       " 'transData': <matplotlib.transforms.CompositeGenericTransform at 0x7fcb85b2a390>,\n",
       " '_xaxis_transform': <matplotlib.transforms.BlendedGenericTransform at 0x7fcb85b2ab10>,\n",
       " '_yaxis_transform': <matplotlib.transforms.BlendedGenericTransform at 0x7fcb85b2a190>,\n",
       " '_box_aspect': None,\n",
       " '_axes_locator': None,\n",
       " 'spines': OrderedDict([('left', <matplotlib.spines.Spine at 0x7fcb85b86510>),\n",
       "              ('right', <matplotlib.spines.Spine at 0x7fcb85b95d10>),\n",
       "              ('bottom', <matplotlib.spines.Spine at 0x7fcb85b95590>),\n",
       "              ('top', <matplotlib.spines.Spine at 0x7fcb85b8c5d0>)]),\n",
       " 'xaxis': <matplotlib.axis.XAxis at 0x7fcb85b2add0>,\n",
       " 'yaxis': <matplotlib.axis.YAxis at 0x7fcb85b8cb90>,\n",
       " '_facecolor': 'white',\n",
       " '_frameon': True,\n",
       " '_axisbelow': 'line',\n",
       " '_rasterization_zorder': None,\n",
       " 'ignore_existing_data_limits': True,\n",
       " 'callbacks': <matplotlib.cbook.CallbackRegistry at 0x7fcb85b8ccd0>,\n",
       " '_autoscaleXon': True,\n",
       " '_autoscaleYon': True,\n",
       " '_xmargin': 0.05,\n",
       " '_ymargin': 0.05,\n",
       " '_tight': None,\n",
       " '_use_sticky_edges': True,\n",
       " '_get_lines': <matplotlib.axes._base._process_plot_var_args at 0x7fcb85ba0810>,\n",
       " '_get_patches_for_fill': <matplotlib.axes._base._process_plot_var_args at 0x7fcb85ba0990>,\n",
       " '_gridOn': False,\n",
       " 'lines': [],\n",
       " 'patches': [],\n",
       " 'texts': [],\n",
       " 'tables': [],\n",
       " 'artists': [],\n",
       " 'images': [],\n",
       " '_mouseover_set': <matplotlib.cbook._OrderedSet at 0x7fcb85ba09d0>,\n",
       " 'child_axes': [],\n",
       " '_current_image': None,\n",
       " 'legend_': None,\n",
       " 'collections': [],\n",
       " 'containers': [],\n",
       " '_autotitlepos': True,\n",
       " 'title': Text(0.5, 1.0, ''),\n",
       " '_left_title': Text(0.0, 1.0, ''),\n",
       " '_right_title': Text(1.0, 1.0, ''),\n",
       " 'titleOffsetTrans': <matplotlib.transforms.ScaledTranslation at 0x7fcb85c5be50>,\n",
       " 'patch': <matplotlib.patches.Rectangle at 0x7fcb85c5bed0>,\n",
       " 'axison': True,\n",
       " 'fmt_xdata': None,\n",
       " 'fmt_ydata': None,\n",
       " '_navigate': True,\n",
       " '_navigate_mode': None,\n",
       " '_xcid': 0,\n",
       " '_ycid': 0,\n",
       " '_layoutbox': None,\n",
       " '_poslayoutbox': None}"
      ]
     },
     "execution_count": 36,
     "metadata": {},
     "output_type": "execute_result"
    }
   ],
   "source": [
    "# Here is an image of the cut out. I bet it looks super pretty!\n",
    "# First tries SDSS, then PS1, then DES, then SkyMapper to get jpeg\n",
    "# should have 100% sky coverage from those surveys\n",
    "from astropy.coordinates import SkyCoord\n",
    "coord = SkyCoord('12:00:00','10:00:00', unit=(u.hour,u.deg))\n",
    "imname = util.getSDSS(coord, impix=1024, imsize=12*u.arcmin)\n",
    "\n",
    "%matplotlib widget\n",
    "fig, ax = plt.subplots(figsize=(20,20))\n",
    "image = mpimg.imread(object_name+'_SDSS_cutout.jpg')\n",
    "ax.imshow(image)\n",
    "\n",
    "plt.title(object_name,fontsize=20)\n",
    "ax.hlines(512,532,572,color='limegreen',alpha=0.8,linewidth=2)\n",
    "ax.vlines(512,532,572,color='limegreen',alpha=0.8,linewidth=2)\n",
    "\n",
    "ax.hlines(1000,50,100,color='white',linewidth=3)\n",
    "ax.vlines(100,950,1000,color='white',linewidth=3)\n",
    "ax.text(95,945,'N',color='white',fontsize=15)\n",
    "ax.text(35,1005,'E',color='white',fontsize=15)\n",
    "    \n",
    "# if XRT:\n",
    "    # x_xrt, y_xrt = xrt_ra, xrt_dec\n",
    "    # add_patch(patches.Circle((x_xrt,y_xrt),radius=xrt_radius,edgecolor='g',alpha=0.5,facecolor='none',linewidth=2,linestyle='--',label='XRT position at RA = %.3f, Dec = %.3f'%(xrt_ra, xrt_dec),picker=True))\n",
    "\n",
    "with open(object_name+'.txt', 'rb') as fp:\n",
    "    result = pickle.load(fp)\n",
    "for line in result:\n",
    "    x, y = 512+(coord.ra.deg-line[1])*3600/scale, 512+(coord.dec.deg-line[2])*3600/scale\n",
    "    ax.add_patch(patches.Circle((x,y),radius=2,edgecolor='r',alpha=0.5,facecolor='none',linewidth=2,linestyle='-',label='SDSS galaxy at RA = %.3f, Dec = %.3f'%(line[1],line[2]),picker=True))\n",
    "\n",
    "fig.canvas.mpl_connect('click_pos', lambda event: onclick())\n",
    "fig.canvas.mpl_connect('pick_event', lambda event: onpick())"
   ]
  },
  {
   "cell_type": "markdown",
   "metadata": {},
   "source": [
    "### Once you have the results, there are several things you can do. One of them is finding the probability chance coincident (Pcc) of the nearby galaxies which essentially tells you how likely that the GRB originated from a galaxy. The lower the Pcc, the more probable. "
   ]
  },
  {
   "cell_type": "code",
   "execution_count": null,
   "metadata": {},
   "outputs": [],
   "source": [
    "# The function you can use to calcilate that is here:\n",
    "def pcc(r,m): \n",
    "    sigma = (1/(0.33*np.log(10)))*10**(0.33*(m-24)-2.44) \n",
    "    prob = 1-np.exp(-(np.pi*(r**2)*sigma)) \n",
    "    return prob\n",
    "\n",
    "# An example of what a plot of Pcc as a function of distance looks like is here. This is what I did for GRB200522A. \n",
    "import numpy as np\n",
    "with open(object_name+'.txt', 'rb') as fp:\n",
    "    result = pickle.load(fp)\n",
    "\n",
    "# Make a list of r_mag that corresponds to each galaxy near the GRB\n",
    "r_mag = [line[7] for line in result]\n",
    "#print(r_mag)\n",
    "\n",
    "# Distance is in arcsecond, not arcminute of the galaxy from the GRB\n",
    "distance = [line[0]*60 for line in result]\n",
    "#print(distance)\n",
    "\n",
    "# Make a list of photometric redshift\n",
    "phot = [line[10] for line in result]\n",
    "#print(phot)\n",
    "    \n",
    "prob = []\n",
    "for i in range(len(r_mag)):\n",
    "    prob.append(pcc(distance[i],r_mag[i]))\n",
    "        \n",
    "#print(prob)"
   ]
  },
  {
   "cell_type": "code",
   "execution_count": null,
   "metadata": {},
   "outputs": [],
   "source": [
    "plt.rcParams['figure.figsize'] = [10, 8]\n",
    "# = plt.subplot(21.137, 0.316, c=0.5537)\n",
    "plt.rcParams['font.family'] = 'serif'\n",
    "plt.rcParams['axes.linewidth'] = 2\n",
    "plt.scatter(distance, prob, marker = \"o\", c=phot, cmap='plasma', alpha = 0.6, s=195, edgecolors='black')\n",
    "plt.ylabel('P$_{cc}$', fontsize = 20)\n",
    "plt.xlabel('Distance (arcsec)', fontsize = 20)\n",
    "clb = plt.colorbar()\n",
    "clb.solids.set_alpha(1)\n",
    "clb.set_label('phot-z', fontsize = 20, labelpad=15, rotation=90)\n",
    "plt.savefig(object_name+'_pcc.png', format = 'pdf', dpi=300, bbox_inches=\"tight\")\n",
    "plt.show()"
   ]
  },
  {
   "cell_type": "markdown",
   "metadata": {},
   "source": [
    "#### You can also sort out other lists of information such as the redshift and distance to make a scatter plot of redshifts as a function of distance. That can be helpful for figuring out whether the host is in a galaxy cluster or not. "
   ]
  }
 ],
 "metadata": {
  "kernelspec": {
   "display_name": "Python 3",
   "language": "python",
   "name": "python3"
  },
  "language_info": {
   "codemirror_mode": {
    "name": "ipython",
    "version": 3
   },
   "file_extension": ".py",
   "mimetype": "text/x-python",
   "name": "python",
   "nbconvert_exporter": "python",
   "pygments_lexer": "ipython3",
   "version": "3.7.9"
  }
 },
 "nbformat": 4,
 "nbformat_minor": 4
}
